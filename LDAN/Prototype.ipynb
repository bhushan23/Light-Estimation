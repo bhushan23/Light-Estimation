{
 "cells": [
  {
   "cell_type": "code",
   "execution_count": 1,
   "metadata": {},
   "outputs": [
    {
     "name": "stderr",
     "output_type": "stream",
     "text": [
      "/home/bhushan/anaconda3/envs/py27/lib/python2.7/site-packages/h5py/__init__.py:36: FutureWarning: Conversion of the second argument of issubdtype from `float` to `np.floating` is deprecated. In future, it will be treated as `np.float64 == np.dtype(float).type`.\n",
      "  from ._conv import register_converters as _register_converters\n"
     ]
    }
   ],
   "source": [
    "import torch\n",
    "import torch.nn as nn\n",
    "import torch.nn.functional as F\n",
    "from torch.autograd import Variable\n",
    "from torchvision import datasets\n",
    "from torchvision import transforms\n",
    "import torchvision\n",
    "import os\n",
    "import numpy as np\n",
    "import matplotlib\n",
    "#matplotlib.use('agg')\n",
    "import matplotlib.pyplot as plt\n",
    "import torchvision.utils as tutils\n",
    "import imageio\n",
    "import pickle\n",
    "import copy\n",
    "from PIL import Image\n",
    "import h5py \n",
    "from torch.utils.data import Dataset, DataLoader\n",
    "from matplotlib.pyplot import imshow\n",
    "import pandas as pd\n",
    "import random"
   ]
  },
  {
   "cell_type": "code",
   "execution_count": 2,
   "metadata": {},
   "outputs": [],
   "source": [
    "# Helper routines\n",
    "IS_CUDA = False\n",
    "if torch.cuda.is_available():\n",
    "    IS_CUDA = True\n",
    "    \n",
    "def var(x):\n",
    "    if IS_CUDA:\n",
    "        x = x.cuda()\n",
    "    return Variable(x)\n",
    "\n",
    "def show(img):\n",
    "    npimg = img.numpy()\n",
    "    plt.imshow(np.transpose(npimg, (1,2,0)), interpolation='nearest')\n",
    "    \n",
    "def denorm(x):\n",
    "    out = (x + 1) / 2\n",
    "    return out.clamp(0, 1)\n",
    "\n",
    "def generate_animation(root, epoch, name):\n",
    "    images = []\n",
    "    for e in range(epoch):\n",
    "        img_name = root+'/image_'+str(e)+'.png'\n",
    "        images.append(imageio.imread(img_name))\n",
    "    imageio.mimsave(root+ '/' + name +'.gif', images, fps=5)\n",
    "\n",
    "def drawLossPlot(generatorLoss, discriminatorLoss, showPlot = False, savePlot = True, loc = \"\"):\n",
    "    plt.xlabel('Iterations')\n",
    "    plt.ylabel('Loss')\n",
    "    plt.title('Vanilla GAN Loss')\n",
    "    plt.plot(generatorLoss, label='Generator Loss')\n",
    "    plt.plot(discriminatorLoss, label='Discriminator Loss')\n",
    "    legend = plt.legend(loc='upper right', shadow=True)\n",
    "    \n",
    "    if showPlot:\n",
    "        plt.show()\n",
    "    if savePlot:\n",
    "        plt.savefig(loc+'Loss_Plot_Vanilla_GAN_'+str(num_epochs)+'.png')\n",
    "\n",
    "def save_image(pic, path):\n",
    "    grid = torchvision.utils.make_grid(pic, nrow=8, padding=2)\n",
    "    ndarr = grid.mul(255).clamp(0, 255).byte().permute(1, 2, 0).cpu().numpy()\n",
    "    im = Image.fromarray(ndarr)\n",
    "    im.save(path)\n",
    "\n",
    "class LossModule: \n",
    "    def __init__(self):\n",
    "        self.D_loss = []\n",
    "        self.G_loss = []\n",
    "\n",
    "    def insertDiscriminatorLoss(self, lossVal):\n",
    "        self.D_loss.append(lossVal)\n",
    "    \n",
    "    def insertGeneratorLoss(self, lossVal):\n",
    "        self.G_loss.append(lossVal)\n",
    "    \n",
    "    def getDiscriminatorLoss(self):\n",
    "        return self.D_loss\n",
    "    \n",
    "    def getGeneratorLoss(self):\n",
    "        return self.G_loss\n",
    "    "
   ]
  },
  {
   "cell_type": "code",
   "execution_count": 3,
   "metadata": {},
   "outputs": [],
   "source": [
    "synData = 'data/synHao/'\n",
    "dataSet1='data/synHao/train_0.h5'\n",
    "global_batch_size = 50"
   ]
  },
  {
   "cell_type": "code",
   "execution_count": 4,
   "metadata": {},
   "outputs": [
    {
     "data": {
      "text/plain": [
       "[u'data_1', u'data_2', u'label']"
      ]
     },
     "execution_count": 4,
     "metadata": {},
     "output_type": "execute_result"
    }
   ],
   "source": [
    "import os\n",
    "\n",
    "hfFiles = []\n",
    "for file in os.listdir(synData):\n",
    "    hf = h5py.File(synData+file, 'r')\n",
    "    hfFiles.append(hf)\n",
    "hf.keys()"
   ]
  },
  {
   "cell_type": "code",
   "execution_count": 5,
   "metadata": {},
   "outputs": [],
   "source": [
    "from numpy import linalg as LA"
   ]
  },
  {
   "cell_type": "code",
   "execution_count": 6,
   "metadata": {},
   "outputs": [
    {
     "name": "stdout",
     "output_type": "stream",
     "text": [
      "5\n",
      "(5000, 64, 64, 3)\n",
      "(5000, 64, 64, 3)\n",
      "(5000, 27)\n",
      "(6638, 64, 64, 3)\n",
      "(6638, 64, 64, 3)\n",
      "(6638, 27)\n",
      "(9138, 64, 64, 3)\n",
      "(9138, 64, 64, 3)\n",
      "(9138, 27)\n"
     ]
    }
   ],
   "source": [
    "# Synthetic Images\n",
    "#hf = h5py.File(dataSet1, 'r')\n",
    "#print hf.keys()\n",
    "\n",
    "# Data Shape \n",
    "\n",
    "syn1 = hf['data_1']\n",
    "syn2 = hf['data_2']\n",
    "dlabel = hf['label']\n",
    "synIm1 = np.array(syn1[:,:,:]) #np.swapaxes(np.array(dset[:,:,:]), 1, 3)\n",
    "synIm2 = np.array(syn2[:,:,:]) #np.swapaxes(np.array(dset2[:,:,:]), 1, 3)\n",
    "synLabel = np.array(dlabel)\n",
    "\n",
    "totalSets = len(hfFiles)\n",
    "print totalSets\n",
    "for i in range(0, totalSets - 2): # in hfFiles:\n",
    "    syn1 = hfFiles[i]['data_1']\n",
    "    syn2 = hfFiles[i]['data_2']\n",
    "    dlabel = hfFiles[i]['label']\n",
    "    synIm1 = np.concatenate((synIm1, np.array(syn1[:,:,:]))) #np.swapaxes(np.array(dset[:,:,:]), 1, 3)\n",
    "    synIm2 = np.concatenate((synIm2, np.array(syn2[:,:,:]))) #np.swapaxes(np.array(dset2[:,:,:]), 1, 3)\n",
    "    synLabel = np.concatenate((synLabel, np.array(dlabel)))\n",
    "    print synIm1.shape\n",
    "    print synIm2.shape\n",
    "    print synLabel.shape\n",
    "\n",
    "syn1Val = hfFiles[totalSets-2]['data_1']\n",
    "syn2Val = hfFiles[totalSets-2]['data_2']\n",
    "labelVal = hfFiles[totalSets-2]['label']\n",
    "syn1Val = np.array(syn1Val[:,:,:]) #np.swapaxes(np.array(dset[:,:,:]), 1, 3)\n",
    "syn2Val = np.array(syn2Val[:,:,:]) #np.swapaxes(np.array(dset2[:,:,:]), 1, 3)\n",
    "synValLabel = np.array(labelVal)"
   ]
  },
  {
   "cell_type": "code",
   "execution_count": 98,
   "metadata": {},
   "outputs": [
    {
     "name": "stdout",
     "output_type": "stream",
     "text": [
      "['train_0.h5', 'train_17.h5', 'train_1.h5', 'train_2.h5', 'train_3.h5']\n"
     ]
    }
   ],
   "source": [
    "import os\n",
    "for dirpath, dirs, files in os.walk(\"./data/synHao\"):\n",
    "    print files"
   ]
  },
  {
   "cell_type": "code",
   "execution_count": 7,
   "metadata": {},
   "outputs": [],
   "source": [
    "syn1 = hf['data_1']\n",
    "# print syn1[0]"
   ]
  },
  {
   "cell_type": "code",
   "execution_count": 8,
   "metadata": {},
   "outputs": [
    {
     "data": {
      "text/plain": [
       "h5py._hl.dataset.Dataset"
      ]
     },
     "execution_count": 8,
     "metadata": {},
     "output_type": "execute_result"
    }
   ],
   "source": [
    "type(syn1)"
   ]
  },
  {
   "cell_type": "code",
   "execution_count": 9,
   "metadata": {},
   "outputs": [
    {
     "name": "stdout",
     "output_type": "stream",
     "text": [
      "(2500, 64, 64, 3)\n"
     ]
    }
   ],
   "source": [
    "hf = h5py.File(dataSet1, 'r')\n",
    "syn1 = hf['data_1']\n",
    "\n",
    "syn1= np.array(syn1[:,:,:])\n",
    "temp = syn1.astype(int)\n",
    "print syn1.shape\n",
    "image = Image.fromarray(syn1[100].astype('int8'), 'RGB')\n",
    "image.save('file3.png')\n",
    "image.show()"
   ]
  },
  {
   "cell_type": "code",
   "execution_count": 10,
   "metadata": {},
   "outputs": [],
   "source": [
    "syn1 = np.moveaxis(synIm1, 1, 3)\n",
    "syn1 = np.moveaxis(syn1, 1, 2)\n",
    "syn1 = np.moveaxis(syn1, 2, 3)\n",
    "\n",
    "syn2 = np.moveaxis(synIm2, 1, 3)\n",
    "syn2 = np.moveaxis(syn2, 1, 2)\n",
    "syn2 = np.moveaxis(syn2, 2, 3)\n",
    "\n",
    "syn1Val = np.moveaxis(syn1Val, 1, 3)\n",
    "syn1Val = np.moveaxis(syn1Val, 1, 2)\n",
    "syn1Val = np.moveaxis(syn1Val, 2, 3)\n",
    "\n",
    "syn2Val = np.moveaxis(syn2Val, 1, 3)\n",
    "syn2Val = np.moveaxis(syn2Val, 1, 2)\n",
    "syn2Val = np.moveaxis(syn2Val, 2, 3)"
   ]
  },
  {
   "cell_type": "code",
   "execution_count": 11,
   "metadata": {},
   "outputs": [
    {
     "name": "stdout",
     "output_type": "stream",
     "text": [
      "(9138, 3, 64, 64)\n"
     ]
    }
   ],
   "source": [
    "print syn1.shape"
   ]
  },
  {
   "cell_type": "code",
   "execution_count": 12,
   "metadata": {},
   "outputs": [
    {
     "name": "stdout",
     "output_type": "stream",
     "text": [
      "255.0\n",
      "1.0\n",
      "255.0\n",
      "0.0\n"
     ]
    }
   ],
   "source": [
    "print syn1.max()\n",
    "syn1N = syn1.astype(float) / 255\n",
    "print syn1N.max()\n",
    "syn1B = syn1N * 255\n",
    "print syn1B.max()\n",
    "print syn1B.min()"
   ]
  },
  {
   "cell_type": "code",
   "execution_count": 13,
   "metadata": {},
   "outputs": [],
   "source": [
    "# print syn3.shape, type(syn3)\n",
    "# image = Image.fromarray(syn3[10].astype('int8'), 'RGB')\n",
    "# image.show()"
   ]
  },
  {
   "cell_type": "code",
   "execution_count": 14,
   "metadata": {},
   "outputs": [],
   "source": [
    "# class MyDataset(Dataset):\n",
    "#     def __init__(self, numpy_arr, mean, std):\n",
    "#         self.data = torch.from_numpy(numpy_arr)\n",
    "#         self.mean = mean\n",
    "#         self.std = std\n",
    "#         #normalize here or in __getitem__\n",
    "\n",
    "#     def __getitem__(self, index):\n",
    "#         data = self.data[index]\n",
    "#         #if not already normalized\n",
    "#         data = data - mean\n",
    "#         data = data / std\n",
    "#         return data\n",
    "\n",
    "#     def __len__(self):\n",
    "#         return len(self.data)"
   ]
  },
  {
   "cell_type": "code",
   "execution_count": 16,
   "metadata": {},
   "outputs": [],
   "source": [
    "# mean = np.std(syn1)\n",
    "# std = np.mean(syn1)"
   ]
  },
  {
   "cell_type": "code",
   "execution_count": 17,
   "metadata": {},
   "outputs": [],
   "source": [
    "# dataSet = MyDataset(syn1, mean, std)"
   ]
  },
  {
   "cell_type": "code",
   "execution_count": 18,
   "metadata": {},
   "outputs": [],
   "source": [
    "synImage1 = torch.utils.data.DataLoader(syn1, batch_size = global_batch_size)\n",
    "synImage2 = torch.utils.data.DataLoader(syn2, batch_size = global_batch_size)\n",
    "synLabel = torch.utils.data.DataLoader(synLabel, batch_size = global_batch_size)\n",
    "synVal1 = torch.utils.data.DataLoader(syn1Val, batch_size = global_batch_size)\n",
    "synVal2 = torch.utils.data.DataLoader(syn2Val, batch_size = global_batch_size)\n",
    "synValLabel = torch.utils.data.DataLoader(synValLabel, batch_size = global_batch_size)"
   ]
  },
  {
   "cell_type": "code",
   "execution_count": 19,
   "metadata": {},
   "outputs": [
    {
     "data": {
      "image/png": "[encoded data removed]",
      "text/plain": [
       "<Figure size 432x288 with 1 Axes>"
      ]
     },
     "metadata": {},
     "output_type": "display_data"
    }
   ],
   "source": [
    "dreal = next(iter(synImage1)).type(torch.ShortTensor)\n",
    "#print dreal.type\n",
    "show(dreal[0])"
   ]
  },
  {
   "cell_type": "code",
   "execution_count": 20,
   "metadata": {},
   "outputs": [],
   "source": [
    "# image = Image.fromarray(syn1[100].astype('uint8'), 'RGB')\n",
    "# image1 = Image.fromarray(syn2[0].astype('uint8'))\n",
    "# image.save('file2.png')\n",
    "# image.show()\n",
    "# # #image1.show()\n",
    "# # syn1[100].shape"
   ]
  },
  {
   "cell_type": "code",
   "execution_count": 21,
   "metadata": {},
   "outputs": [
    {
     "name": "stdout",
     "output_type": "stream",
     "text": [
      "[u'FinalLoss', u'Height', u'Image', u'Lighting', u'Normal', u'Reflectance', u'Shading']\n"
     ]
    }
   ],
   "source": [
    "# Test matlab generated H5 file\n",
    "hf = h5py.File('../../Light-Estimation/datasets/realImagesSH/data_1.h5', 'r')\n",
    "print hf.keys()\n",
    "syn1 = hf['/Image']\n",
    "lighting = hf['/Lighting']\n",
    "normal = hf['/Normal']\n",
    "height = hf['/Height']\n",
    "reflectance = hf['/Reflectance']\n",
    "finalLoss = hf['/FinalLoss']\n",
    "shading = hf['/Shading']"
   ]
  },
  {
   "cell_type": "code",
   "execution_count": 22,
   "metadata": {},
   "outputs": [
    {
     "name": "stdout",
     "output_type": "stream",
     "text": [
      "(100, 27)\n",
      "(100, 3, 64, 64)\n",
      "(100, 3, 64, 64)\n",
      "(100, 64, 64)\n",
      "(100, 3, 64, 64)\n",
      "(100,)\n",
      "(100, 3, 64, 64)\n"
     ]
    }
   ],
   "source": [
    "print lighting.shape\n",
    "print syn1.shape\n",
    "print normal.shape\n",
    "print height.shape\n",
    "print reflectance.shape\n",
    "print finalLoss.shape\n",
    "print shading.shape\n",
    "realImage = torch.utils.data.DataLoader(syn1, batch_size= global_batch_size, shuffle = False)\n",
    "realSH = torch.utils.data.DataLoader(lighting, batch_size= global_batch_size, shuffle = False)\n",
    "rNormal = torch.utils.data.DataLoader(normal, batch_size= global_batch_size, shuffle = False)\n",
    "rHeight = torch.utils.data.DataLoader(height, batch_size= global_batch_size, shuffle = False)\n",
    "rReflectance = torch.utils.data.DataLoader(reflectance, batch_size= global_batch_size, shuffle = False)\n",
    "rFinalLoss = torch.utils.data.DataLoader(finalLoss, batch_size= global_batch_size, shuffle = False)\n",
    "rShading = torch.utils.data.DataLoader(shading, batch_size= global_batch_size, shuffle = False)"
   ]
  },
  {
   "cell_type": "code",
   "execution_count": 23,
   "metadata": {},
   "outputs": [
    {
     "name": "stdout",
     "output_type": "stream",
     "text": [
      "torch.Size([50, 3, 64, 64])\n"
     ]
    },
    {
     "data": {
      "image/png": "[encoded data removed]",
      "text/plain": [
       "<Figure size 432x288 with 1 Axes>"
      ]
     },
     "metadata": {},
     "output_type": "display_data"
    }
   ],
   "source": [
    "dreal = next(iter(realImage))\n",
    "print dreal.shape\n",
    "show(dreal[0])"
   ]
  },
  {
   "cell_type": "code",
   "execution_count": 24,
   "metadata": {},
   "outputs": [
    {
     "name": "stdout",
     "output_type": "stream",
     "text": [
      "torch.Size([50, 3, 64, 64])\n"
     ]
    },
    {
     "data": {
      "image/png": "[encoded data removed]",
      "text/plain": [
       "<Figure size 432x288 with 1 Axes>"
      ]
     },
     "metadata": {},
     "output_type": "display_data"
    }
   ],
   "source": [
    "dreal = next(iter(rNormal))\n",
    "print dreal.shape\n",
    "show(denorm(dreal[0]))"
   ]
  },
  {
   "cell_type": "code",
   "execution_count": 25,
   "metadata": {},
   "outputs": [],
   "source": [
    "# Loss function\n",
    "\n",
    "# Parameters being used by loss functions\n",
    "MU = 50.0\n",
    "RHO = 50.0\n",
    "LAMDA = 0.5\n",
    "def regressionLossSynthetic(syn1, label):\n",
    "    return (syn1 - label)**2\n",
    "\n",
    "def featureLoss(syn1, syn2):\n",
    "    return (syn1 - syn2)**2\n",
    "\n",
    "def regressionLoss(syn1, syn2, label):\n",
    "    rLoss = regressionLossSynthetic(syn1, label) + regressionLossSynthetic(syn2, label)\n",
    "    fLoss = featureLoss(syn1, syn2)\n",
    "    loss = RHO * rLoss + LAMDA * fLoss\n",
    "    return loss.sum()\n",
    "\n",
    "def GANLoss(vals):\n",
    "    return vals.mean()"
   ]
  },
  {
   "cell_type": "code",
   "execution_count": 26,
   "metadata": {},
   "outputs": [],
   "source": [
    "# Resnet == Feature Net\n",
    "import torch.nn as nn\n",
    "import math\n",
    "import torch.utils.model_zoo as model_zoo\n",
    "\n",
    "\n",
    "def conv3x3(in_planes, out_planes, stride=1):\n",
    "    \"3x3 convolution with padding\"\n",
    "    return nn.Conv2d(in_planes, out_planes, kernel_size=3, stride=stride,\n",
    "                     padding=1, bias=False)\n",
    "\n",
    "\n",
    "class BasicBlock(nn.Module):\n",
    "    expansion = 1\n",
    "\n",
    "    def __init__(self, inplanes, planes, stride=1, downsample=None):\n",
    "        super(BasicBlock, self).__init__()\n",
    "        self.conv1 = conv3x3(inplanes, planes, stride)\n",
    "        self.bn1 = nn.BatchNorm2d(planes)\n",
    "        self.relu = nn.ReLU(inplace=True)\n",
    "        self.conv2 = conv3x3(planes, planes)\n",
    "        self.bn2 = nn.BatchNorm2d(planes)\n",
    "        self.downsample = downsample\n",
    "        self.stride = stride\n",
    "\n",
    "    def forward(self, x):\n",
    "        residual = x\n",
    "\n",
    "        out = self.conv1(x)\n",
    "        out = self.bn1(out)\n",
    "        out = self.relu(out)\n",
    "\n",
    "        out = self.conv2(out)\n",
    "        out = self.bn2(out)\n",
    "\n",
    "        if self.downsample is not None:\n",
    "            residual = self.downsample(x)\n",
    "\n",
    "        out += residual\n",
    "        out = self.relu(out)\n",
    "\n",
    "        return out\n",
    "\n",
    "class ResNet(nn.Module):\n",
    "    def __init__(self, block, layers, num_classes=1000):\n",
    "        self.inplanes = 16\n",
    "        super(ResNet, self).__init__()\n",
    "        self.conv1 = conv3x3(3, 16) \n",
    "        #, kernel_size=7, stride=2, padding=3, bias=False)\n",
    "        self.bn1 = nn.BatchNorm2d(16)\n",
    "        self.relu = nn.ReLU(inplace=True)\n",
    "        self.maxpool = nn.MaxPool2d(kernel_size=3, padding=1)\n",
    "        self.layer1 = self._make_layer(block, 16, layers[0])\n",
    "        self.layer2 = self._make_layer(block, 32, layers[1], stride=2)\n",
    "        self.layer3 = self._make_layer(block, 64, layers[2], stride=2)\n",
    "        self.layer4 = self._make_layer(block, 128, layers[3], stride=2)\n",
    "        self.avgpool = nn.AvgPool2d(3)\n",
    "        self.fc = nn.Linear(512 * block.expansion, num_classes)\n",
    "        self.lastFC = nn.Linear(128, 128)\n",
    "        \n",
    "        for m in self.modules():\n",
    "            if isinstance(m, nn.Conv2d):\n",
    "                n = m.kernel_size[0] * m.kernel_size[1] * m.out_channels\n",
    "                m.weight.data.normal_(0, math.sqrt(2. / n))\n",
    "            elif isinstance(m, nn.BatchNorm2d):\n",
    "                m.weight.data.fill_(1)\n",
    "                m.bias.data.zero_()\n",
    "\n",
    "    def _make_layer(self, block, planes, blocks, stride=1):\n",
    "        downsample = None\n",
    "        if stride != 1 or self.inplanes != planes * block.expansion:\n",
    "            downsample = nn.Sequential(\n",
    "                nn.Conv2d(self.inplanes, planes * block.expansion,\n",
    "                          kernel_size=1, stride=stride, bias=False),\n",
    "                nn.BatchNorm2d(planes * block.expansion),\n",
    "            )\n",
    "\n",
    "        layers = []\n",
    "        layers.append(block(self.inplanes, planes, stride, downsample))\n",
    "        self.inplanes = planes * block.expansion\n",
    "        for i in range(1, blocks):\n",
    "            layers.append(block(self.inplanes, planes))\n",
    "\n",
    "        return nn.Sequential(*layers)\n",
    "\n",
    "    def forward(self, x):\n",
    "        x = self.conv1(x)\n",
    "        x = self.bn1(x)\n",
    "        x = self.relu(x)\n",
    "        x = self.maxpool(x)\n",
    "\n",
    "        x = self.layer1(x)\n",
    "        x = self.layer2(x)\n",
    "        x = self.layer3(x)\n",
    "        x = self.layer4(x)\n",
    "\n",
    "        x = self.avgpool(x)\n",
    "        #print 'X shape before flatten:', x.shape\n",
    "        x = x.view(x.size(0), -1)\n",
    "        #print 'X shape after flatten:', x.shape\n",
    "        x = self.lastFC(x)\n",
    "        #x = self.fc(x)\n",
    "\n",
    "        return x"
   ]
  },
  {
   "cell_type": "code",
   "execution_count": 27,
   "metadata": {},
   "outputs": [],
   "source": [
    "# Feature Net \n",
    "class BaseSimpleFeatureNet(nn.Module):\n",
    "    def __init__(self):\n",
    "        super(BaseSimpleFeatureNet, self).__init__()\n",
    "        self.conv1 = nn.Conv2d(3, 16, 3, padding = 4)\n",
    "        self.maxpool1 = nn.MaxPool2d(16)\n",
    "        self.conv2 = nn.Conv2d(16, 32, 3)\n",
    "        self.maxpool2 = nn.MaxPool2d(32)\n",
    "        self.conv3 = nn.Conv2d(32, 64, 3)\n",
    "        self.maxpool3 = nn.MaxPool2d(64)\n",
    "        self.fc1 = nn.Linear(128, 128)\n",
    "        #self.fc2 = nn.Linear(1024, 128)\n",
    "        \n",
    "    def forward(self, x):\n",
    "        x = self.conv1(x)\n",
    "        x = self.maxpool1(x)\n",
    "        x = F.relu(x)\n",
    "        x = self.conv2(x)\n",
    "        #x = self.maxpool2(x)\n",
    "        x = F.relu(x)\n",
    "        #x = self.conv3(x)\n",
    "        #x = self.maxpool3(x)\n",
    "        #x = F.relu(x)\n",
    "        x = x.view(x.size(0), -1)\n",
    "        x = self.fc1(x)\n",
    "        return x\n",
    "        #x = F.relu(x)\n",
    "        #x = self.fc2(x)\n",
    "        #return x"
   ]
  },
  {
   "cell_type": "code",
   "execution_count": 28,
   "metadata": {},
   "outputs": [],
   "source": [
    "# Lighting Net\n",
    "class LightingNet(nn.Module):\n",
    "    def __init__(self):\n",
    "        super(LightingNet, self).__init__()\n",
    "        self.fc1 = nn.Linear(128, 128)\n",
    "        self.fc2 = nn.Linear(128, 27) #18)\n",
    "    \n",
    "    def forward(self, x):\n",
    "        #print x.shape\n",
    "        x = self.fc1(x)\n",
    "        x = F.relu(x)\n",
    "        #print x.shape\n",
    "        x = F.dropout(x)\n",
    "        x = self.fc2(x)\n",
    "        return x;"
   ]
  },
  {
   "cell_type": "code",
   "execution_count": 29,
   "metadata": {},
   "outputs": [],
   "source": [
    "# Discriminator\n",
    "class Discriminator(nn.Module):\n",
    "    def __init__(self):\n",
    "        super(Discriminator, self).__init__()\n",
    "        self.fc = nn.Linear(128, 128)\n",
    "        self.fc1 = nn.Linear(128, 1)\n",
    "        self.dOut = nn.Dropout(p=0.2)\n",
    "        \n",
    "    def forward(self, x):\n",
    "        x = self.fc(x)\n",
    "        x = F.relu(x)\n",
    "        x = self.dOut(x)\n",
    "        x = self.fc(x)\n",
    "        x = F.relu(x)\n",
    "        x = self.dOut(x)\n",
    "        x = self.fc1(x)\n",
    "        x = F.tanh(x)\n",
    "        return x"
   ]
  },
  {
   "cell_type": "code",
   "execution_count": 47,
   "metadata": {},
   "outputs": [],
   "source": [
    "featureNet = ResNet(BasicBlock, [2, 2, 2, 2], 27)\n",
    "#featureNet = BaseSimpleFeatureNet()\n",
    "lightingNet = LightingNet()\n",
    "D = Discriminator()\n",
    "R = ResNet(BasicBlock, [2, 2, 2, 2], 27) #BaseSimpleFeatureNet()"
   ]
  },
  {
   "cell_type": "code",
   "execution_count": 36,
   "metadata": {},
   "outputs": [
    {
     "name": "stdout",
     "output_type": "stream",
     "text": [
      "BaseSimpleFeatureNet(\n",
      "  (conv1): Conv2d(3, 16, kernel_size=(3, 3), stride=(1, 1), padding=(4, 4))\n",
      "  (maxpool1): MaxPool2d(kernel_size=(16, 16), stride=(16, 16), dilation=(1, 1), ceil_mode=False)\n",
      "  (conv2): Conv2d(16, 32, kernel_size=(3, 3), stride=(1, 1))\n",
      "  (maxpool2): MaxPool2d(kernel_size=(32, 32), stride=(32, 32), dilation=(1, 1), ceil_mode=False)\n",
      "  (conv3): Conv2d(32, 64, kernel_size=(3, 3), stride=(1, 1))\n",
      "  (maxpool3): MaxPool2d(kernel_size=(64, 64), stride=(64, 64), dilation=(1, 1), ceil_mode=False)\n",
      "  (fc1): Linear(in_features=128, out_features=128, bias=True)\n",
      ")\n"
     ]
    }
   ],
   "source": [
    "print featureNet"
   ]
  },
  {
   "cell_type": "code",
   "execution_count": 37,
   "metadata": {},
   "outputs": [
    {
     "name": "stdout",
     "output_type": "stream",
     "text": [
      "LightingNet(\n",
      "  (fc1): Linear(in_features=128, out_features=128, bias=True)\n",
      "  (fc2): Linear(in_features=128, out_features=27, bias=True)\n",
      ")\n"
     ]
    }
   ],
   "source": [
    "print lightingNet"
   ]
  },
  {
   "cell_type": "code",
   "execution_count": 38,
   "metadata": {},
   "outputs": [],
   "source": [
    "#syn1 = torch.FloatTensor(syn1)\n",
    "#syn2 = torch.FloatTensor(syn2)\n",
    "#slabel = torch.FloatTensor(slabel)"
   ]
  },
  {
   "cell_type": "code",
   "execution_count": 54,
   "metadata": {},
   "outputs": [],
   "source": [
    "# Synthetic Net Training\n",
    "loss = nn.MSELoss()\n",
    "def train(fNet, lNet, num_epochs = 3):\n",
    "    fOpt = torch.optim.Adam(fNet.parameters(), lr = 0.0002)\n",
    "    lOpt = torch.optim.Adam(lNet.parameters(), lr = 0.0002)\n",
    "\n",
    "    for epoch in range(0, num_epochs):\n",
    "        tLoss = 0\n",
    "        for s1, s2, l in zip(synImage1, synImage2, synLabel):\n",
    "            #print s1.type\n",
    "            #print 's1', s1.shape\n",
    "            batchSize = s1.shape[0]\n",
    "            #print batchSize\n",
    "            s1 = var(s1).type(torch.FloatTensor)\n",
    "            s2 = var(s2).type(torch.FloatTensor)\n",
    "            l = var(l)\n",
    "            #s1 = s1.transpose(1, 3)\n",
    "            output = fNet(s1)\n",
    "            #print 'out:', output.shape\n",
    "            output = lNet(output)\n",
    "            output2 = fNet(s2)\n",
    "            output2 = lNet(output2)\n",
    "            #print 'L:', output\n",
    "            #print 'Actual:', l\n",
    "            Floss = regressionLoss(output, output2, l)\n",
    "            #Floss = loss(output, l)\n",
    "            fNet.zero_grad()\n",
    "            lNet.zero_grad()\n",
    "            Floss.backward()\n",
    "            fOpt.step()\n",
    "            lOpt.step()\n",
    "            tLoss += Floss\n",
    "        print 'Epoch:', epoch, 'Loss:', tLoss.data[0]\n",
    "    # return featureNet\n",
    "\n",
    "def predict(fNet, lNet, Input):\n",
    "    val = next(iter(Input)).type(torch.FloatTensor)\n",
    "    val = var(val)\n",
    "    \n",
    "    out = lNet(fNet(val))\n",
    "    tLabel = var(next(iter(synValLabel)))\n",
    "    return loss(out, tLabel)\n",
    "\n",
    "def predictAllSynthetic(fNet, data):\n",
    "    fsFeatures = []\n",
    "    i = 0\n",
    "    for s1 in data:\n",
    "        s1 = var(s1)\n",
    "        fsFeatures.append(fNet(s1))\n",
    "        i += 1\n",
    "        if i == 10:\n",
    "            break\n",
    "    return fsFeatures"
   ]
  },
  {
   "cell_type": "code",
   "execution_count": 40,
   "metadata": {},
   "outputs": [
    {
     "name": "stdout",
     "output_type": "stream",
     "text": [
      "Epoch: 0 Loss: 56628892.0\n"
     ]
    }
   ],
   "source": [
    "train(featureNet, lightingNet, 1)"
   ]
  },
  {
   "cell_type": "code",
   "execution_count": 41,
   "metadata": {},
   "outputs": [
    {
     "name": "stdout",
     "output_type": "stream",
     "text": [
      "0.166457682848\n"
     ]
    }
   ],
   "source": [
    "err = predict(featureNet, lightingNet, synVal1)\n",
    "print err.data[0]"
   ]
  },
  {
   "cell_type": "code",
   "execution_count": 42,
   "metadata": {},
   "outputs": [],
   "source": [
    "torch.save(featureNet.state_dict(), './featureNet.pkl')\n",
    "torch.save(lightingNet.state_dict(), './lightingNet.pkl')"
   ]
  },
  {
   "cell_type": "code",
   "execution_count": null,
   "metadata": {},
   "outputs": [],
   "source": [
    "featureNet.load_state_dict(torch.load('./featureNet.pkl'))\n",
    "lightingNet.load_state_dict(torch.load('./lightingNet.pkl'))"
   ]
  },
  {
   "cell_type": "code",
   "execution_count": 43,
   "metadata": {},
   "outputs": [],
   "source": [
    "fs = predictAllSynthetic(featureNet, synImage1)"
   ]
  },
  {
   "cell_type": "code",
   "execution_count": null,
   "metadata": {},
   "outputs": [],
   "source": [
    "print len(fs)"
   ]
  },
  {
   "cell_type": "code",
   "execution_count": null,
   "metadata": {},
   "outputs": [],
   "source": [
    "# Training GAN\n",
    "def trainGAN(lNet, rNet, D, fs, rData, rLabel, numDTrainer= 1, numGTrainer = 1, num_epoch = 5):\n",
    "    rNet_opt = torch.optim.Adadelta(rNet.parameters(), lr = 0.0002)\n",
    "    lNet_opt = torch.optim.Adadelta(lNet.parameters(), lr = 0.0002)\n",
    "    D_opt    = torch.optim.RMSprop(D.parameters(), lr = 0.0002)\n",
    "    firstCallD = False\n",
    "    firstCallG = False\n",
    "    for epoch in range(0, num_epoch):\n",
    "        GLoss_D = 0.0\n",
    "        DLoss_D = 0.0\n",
    "        for rD, rL in zip(rData, rLabel):\n",
    "            image = var(rD).type(torch.cuda.FloatTensor)\n",
    "            #print type(image)\n",
    "            rL = var(rL).type(torch.cuda.FloatTensor)\n",
    "            batch_size = image.size(0)\n",
    "            #print batch_size\n",
    "            # Train the Discriminator\n",
    "            for k in range(0, numDTrainer):\n",
    "                # Randomly peack fs to train Discriminator\n",
    "                rFS = random.randint(0, len(fs)-1)\n",
    "                #print fs[rFS].shape\n",
    "                D_real = D(fs[rFS])\n",
    "                print D_real.size()\n",
    "                print image.size()\n",
    "                # Pass real data through generator\n",
    "                G_fake = rNet(image)\n",
    "                D_fake = D(G_fake)\n",
    "                # Loss for Discriminator\n",
    "                #D_real_loss = lossGAN(D_real, var(torch.ones(batch_size, 1)))\n",
    "                #D_fake_loss = lossCriterion(D_fake, var(-1 * torch.ones(batch_size, 1)))\n",
    "                D_real_loss = GANLoss(D_real)\n",
    "                D_fake_loss = GANLoss(D_fake)\n",
    "                print 'DLOSS:', D_real_loss.data[0], ' ', D_fake_loss.data[0]\n",
    "                D_loss = -D_real_loss + D_fake_loss # -ve as we need to maximize\n",
    "                \n",
    "                # Backprop Discriminator\n",
    "                D.zero_grad()\n",
    "                if firstCallD == True:\n",
    "                    D_loss.backward(retain_graph=True)\n",
    "                    firstCallD = False\n",
    "                else:\n",
    "                    D_loss.backward(retain_graph = True)\n",
    "                D_opt.step()\n",
    "            \n",
    "            # Train the Generator\n",
    "            for k in range(0, numGTrainer):\n",
    "                G_fake = rNet(image)\n",
    "                D_fake = D(G_fake)\n",
    "                # Generator Loss\n",
    "                G_predict = lNet(G_fake)\n",
    "                #print type(G_predict), type(rL)\n",
    "                #G_loss = lossCriterion(D_fake, var(torch.ones(batch_size, 1))) + MU * regressionLossSynthetic(G_predict, rLabel)\n",
    "                G_loss = -GANLoss(D_fake) + MU * regressionLossSynthetic(G_predict, rL).sum()\n",
    "                #G_loss = MU * regressionLossSynthetic(G_predict, rL).sum()\n",
    " \n",
    "                lNet.zero_grad()\n",
    "                rNet.zero_grad()\n",
    "                if firstCallG == True:\n",
    "                    G_loss.backward(retain_graph=True)\n",
    "                    firstCallG = False\n",
    "                else:\n",
    "                    G_loss.backward(retain_graph = True)\n",
    "                rNet_opt.step()\n",
    "                #lNet_opt.step()\n",
    "            GLoss_D += G_loss.data[0]\n",
    "            DLoss_D += D_loss.data[0]\n",
    "        print 'Epoch [{}/{}], Discriminator {}, Generator {}'.format(epoch+1, num_epoch, DLoss_D, GLoss_D)\n",
    "        if epoch % 100 == 0:\n",
    "            torch.save(lightingNet.state_dict(), './models/GAN_LNet_'+str(epoch/100)+'.pkl')\n",
    "            torch.save(D.state_dict(), './models/Discriminator._'+str(epoch/100)+'pkl')\n",
    "            torch.save(R.state_dict(), './models/Generator_'+str(epoch/100)+'.pkl')\n"
   ]
  },
  {
   "cell_type": "code",
   "execution_count": null,
   "metadata": {},
   "outputs": [],
   "source": [
    "trainGAN(lightingNet, featureNet, D, fs, realImage, realSH)"
   ]
  },
  {
   "cell_type": "code",
   "execution_count": 48,
   "metadata": {},
   "outputs": [],
   "source": [
    "# Testing\n",
    "lightingNet.load_state_dict(torch.load('./GAN_LNet.pkl'))\n",
    "R.load_state_dict(torch.load('./Generator.pkl'))"
   ]
  },
  {
   "cell_type": "code",
   "execution_count": 65,
   "metadata": {},
   "outputs": [
    {
     "name": "stdout",
     "output_type": "stream",
     "text": [
      "torch.Size([50, 3, 64, 64])\n"
     ]
    },
    {
     "data": {
      "image/png": "[encoded data removed]",
      "text/plain": [
       "<Figure size 432x288 with 1 Axes>"
      ]
     },
     "metadata": {},
     "output_type": "display_data"
    }
   ],
   "source": [
    "dreal = next(iter(realImage))\n",
    "print dreal.shape\n",
    "show(dreal[0])"
   ]
  },
  {
   "cell_type": "code",
   "execution_count": 93,
   "metadata": {},
   "outputs": [
    {
     "name": "stdout",
     "output_type": "stream",
     "text": [
      "torch.Size([50, 3, 64, 64])\n"
     ]
    },
    {
     "data": {
      "image/png": "[encoded data removed]",
      "text/plain": [
       "<Figure size 432x288 with 1 Axes>"
      ]
     },
     "metadata": {},
     "output_type": "display_data"
    }
   ],
   "source": [
    "dNormal = next(iter(rNormal))\n",
    "print dNormal.shape\n",
    "show(denorm(dNormal[0]))"
   ]
  },
  {
   "cell_type": "code",
   "execution_count": 59,
   "metadata": {},
   "outputs": [],
   "source": [
    "d = var(dreal).type(torch.FloatTensor)\n",
    "out = lightingNet(R(d))"
   ]
  },
  {
   "cell_type": "code",
   "execution_count": 89,
   "metadata": {},
   "outputs": [
    {
     "name": "stdout",
     "output_type": "stream",
     "text": [
      "<class 'torch.DoubleTensor'>\n"
     ]
    }
   ],
   "source": [
    "print type(dNormal)\n",
    "dOut = dNormal.numpy()\n",
    "outSH = out.data.numpy()"
   ]
  },
  {
   "cell_type": "code",
   "execution_count": 86,
   "metadata": {},
   "outputs": [
    {
     "name": "stdout",
     "output_type": "stream",
     "text": [
      "torch.Size([50, 27])\n"
     ]
    }
   ],
   "source": [
    "print out.shape"
   ]
  },
  {
   "cell_type": "code",
   "execution_count": 82,
   "metadata": {},
   "outputs": [],
   "source": [
    "def writeSHToH5(dNormal, outSH, fileName = 'Normal_SH.h5'):\n",
    "    hf = h5py.File(fileName, 'w')\n",
    "    hf.create_dataset('Normal', data=dNormal)\n",
    "    hf.create_dataset('SH', data=outSH)\n",
    "    hf.close()"
   ]
  },
  {
   "cell_type": "code",
   "execution_count": 91,
   "metadata": {},
   "outputs": [],
   "source": [
    "writeSHToH5(dOut, outSH)"
   ]
  },
  {
   "cell_type": "code",
   "execution_count": null,
   "metadata": {},
   "outputs": [],
   "source": [
    "."
   ]
  }
 ],
 "metadata": {
  "kernelspec": {
   "display_name": "Python 2",
   "language": "python",
   "name": "python2"
  },
  "language_info": {
   "codemirror_mode": {
    "name": "ipython",
    "version": 2
   },
   "file_extension": ".py",
   "mimetype": "text/x-python",
   "name": "python",
   "nbconvert_exporter": "python",
   "pygments_lexer": "ipython2",
   "version": "2.7.14"
  }
 },
 "nbformat": 4,
 "nbformat_minor": 2
}
